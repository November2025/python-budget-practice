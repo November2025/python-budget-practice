{
 "cells": [
  {
   "cell_type": "code",
   "execution_count": 2,
   "metadata": {},
   "outputs": [
    {
     "name": "stdout",
     "output_type": "stream",
     "text": [
      "Final Checking Account Balance: $1761.01\n",
      "Final Savings Account Balance: $-54.33\n",
      "Wishlist Items Purchased: ['Automatic Cat Feeder']\n",
      "Savings Over Time: [-54.33199999999988]\n"
     ]
    }
   ],
   "source": [
    "import pandas as pd\n",
    "\n",
    "# read income data \n",
    "income_df = pd.read_csv(\"income.csv\")\n",
    "\n",
    "# read expense data\n",
    "expenses_df = pd.read_csv(\"bills.csv\")\n",
    "\n",
    "# read wishlist\n",
    "wishlist = pd.read_csv(\"wishlist.csv\").to_dict(orient='records')  # dictionary\n",
    "\n",
    "def calculate_budget(income_df, expenses_df, wishlist):\n",
    "    # starting amounts\n",
    "    checking_balance = 3000  # start balance checking\n",
    "    savings_balance = 0  # start bal savings\n",
    "    savings_over_time = []  # track savings\n",
    "\n",
    "    purchased_items = []  \n",
    "    \n",
    "    \n",
    "    for index, row in income_df.iterrows():\n",
    "        income = row['Cost']  \n",
    "        frequency = row['Frequency']\n",
    "        \n",
    "        # check if the frequency is bi-weekly \n",
    "        if frequency == 2:  \n",
    "            # add income to checking account\n",
    "            checking_balance += income\n",
    "            \n",
    "            #  expenses for the pay period\n",
    "            for _, expense in expenses_df.iterrows():\n",
    "                # check if the expense frequency is monthly or weekly or yearly\n",
    "                if expense['Frequency'] == 1:  # monthly \n",
    "                    # deduct monthly expenses from checking\n",
    "                    checking_balance -= expense['Cost']\n",
    "                elif expense['Frequency'] == 7:  # weekly expense\n",
    "                    checking_balance -= expense['Cost']\n",
    "                \n",
    "\n",
    "            # 10% for savings\n",
    "            savings_contribution = 0.1 * checking_balance\n",
    "            savings_balance += savings_contribution\n",
    "            checking_balance -= savings_contribution  # moves savings to savings acct\n",
    "            \n",
    "            \n",
    "            for item in wishlist:\n",
    "                if savings_balance >= item['Amount'] * 0.2:  # if 20% of savings is enough to buy the item\n",
    "                    purchased_items.append(item['Item'])  # add item to purchased items\n",
    "                    savings_balance -= item['Amount']  # deduct the cost from savings\n",
    "            \n",
    "            # track savings over time\n",
    "            savings_over_time.append(savings_balance)\n",
    "        \n",
    "    # return final balances and other results\n",
    "    return checking_balance, savings_balance, savings_over_time, purchased_items\n",
    "# call the function\n",
    "final_checking, final_savings, savings_over_time, purchased_items = calculate_budget(income_df, expenses_df, wishlist)\n",
    "\n",
    "# results\n",
    "print(f\"Final Checking Account Balance: ${final_checking:.2f}\")\n",
    "print(f\"Final Savings Account Balance: ${final_savings:.2f}\")\n",
    "print(f\"Wishlist Items Purchased: {[item for item in purchased_items]}\")\n",
    "\n",
    "# print savings over time\n",
    "print(\"Savings Over Time:\", savings_over_time)"
   ]
  }
 ],
 "metadata": {
  "kernelspec": {
   "display_name": "Python 3",
   "language": "python",
   "name": "python3"
  },
  "language_info": {
   "codemirror_mode": {
    "name": "ipython",
    "version": 3
   },
   "file_extension": ".py",
   "mimetype": "text/x-python",
   "name": "python",
   "nbconvert_exporter": "python",
   "pygments_lexer": "ipython3",
   "version": "3.13.0"
  }
 },
 "nbformat": 4,
 "nbformat_minor": 2
}
