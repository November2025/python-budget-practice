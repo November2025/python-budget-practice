{
 "cells": [
  {
   "cell_type": "markdown",
   "metadata": {},
   "source": [
    "## Breaking Down the Problem\n",
    "\n",
    "This exercise will assist you in breaking down the problem into individual components. \n",
    "When solving problems, we need to know the precise steps to write instructions to the computer. Computers will adhere to the exact instructions you give it, so pay attention to the natural language you use when solving a problem.\n",
    "\n",
    "To ease the development of bugs, programs are usually built small, then added on to. For example: When creating a nested loop or condition statement, test the inside loop with a few values before continuing to build the additional loops around it."
   ]
  },
  {
   "cell_type": "markdown",
   "metadata": {},
   "source": [
    "### Budget Creation\n",
    "#### Scenario\n",
    "\n",
    "Read over the scenario and type the goal below. What are you given to accomplish this task?\n",
    "\n"
   ]
  },
  {
   "cell_type": "markdown",
   "metadata": {},
   "source": [
    "#### Thought Process\n",
    "\n",
    "What are we calculating in this scenario? Is there a system in place? Let's try a few values."
   ]
  },
  {
   "cell_type": "markdown",
   "metadata": {},
   "source": [
    "_Manually Solving_\n",
    "\n",
    "- We know that we are starting with $3,000, and additional income isn't until the second Friday.\n",
    "- When income is paid, we add to the current amount in checking\n",
    "- When money is moved from checking to savings, we remove it from checking and move it to savings\n",
    "- When a bill is paid, we remove it from checking\n",
    "- We want to assume that the entire budget is spent when calculating how much is left over\n",
    "- If more than $700 is left over, $500 is moved from checking to savings\n",
    "- There is a possibility of overdrafting\n",
    "\n",
    "I'm going to write out one pay period of transactions as an example before I attempt to create a process for this.\n"
   ]
  },
  {
   "cell_type": "markdown",
   "metadata": {},
   "source": [
    " "
   ]
  },
  {
   "cell_type": "markdown",
   "metadata": {},
   "source": [
    "\n",
    "---\n",
    "\n",
    "**Start:** $3,000\n",
    "\n",
    "\n",
    "\n",
    "2025 Starts on a Wednesday.\n",
    "\n",
    "\n",
    "\n",
    "\n",
    "We want to subtract Bills Due:\n",
    "\n",
    "Wed. Jan 1: (Renters Insurance) -10.44, (Rent) -1658.62, (Trash) -2.15, (Sewer) -30.00, (Water) -80.00, (Electricity) -150.00\n",
    "Thurs. Jan 2: None\n",
    "Fri. Jan 3: (Smalls Cat Food) -257.00\n",
    "Sat. Jan 4: None\n",
    "Sun. Jan 5: None\n",
    "Mon. Jan 6: (Bus Pass) -5.99\n",
    "Tues. Jan 7: None\n",
    "Wed. Jan 8: None\n",
    "Thurs. Jan 9: None\n",
    "Fri. Jan 10: None\n",
    "\n",
    "\n",
    "\n",
    "\n",
    "We want to add Income:\n",
    "\n",
    "Fri. Jan 10: +2167.42\n",
    "\n",
    "\n",
    "\n",
    "\n",
    "**Let's take totals:**\n",
    "\n",
    "Total bills due:\n",
    "\n",
    "$ -(10.44 + 1658.62 + 2.15 + 30.00 + 80.00 + 150.00) $\n",
    "\n",
    "Total income:\n",
    "\n",
    "$ 2167.42 $\n",
    "\n",
    "\n",
    "\n",
    "\n",
    "\n",
    "Then, to find how much we have remaining, we will combine these with the start amount.\n",
    "\n",
    "```Python\n",
    "3000.00 + -(10.44 + 1658.62 + 2.15 + 30.00 + 80.00 + 150.00) + 2167.42 \n",
    "```\n"
   ]
  },
  {
   "cell_type": "code",
   "execution_count": 1,
   "metadata": {},
   "outputs": [
    {
     "name": "stdout",
     "output_type": "stream",
     "text": [
      "3236.21\n"
     ]
    }
   ],
   "source": [
    "print(3000.00 + -(10.44 + 1658.62 + 2.15 + 30.00 + 80.00 + 150.00) + 2167.42)"
   ]
  },
  {
   "cell_type": "markdown",
   "metadata": {},
   "source": []
  },
  {
   "cell_type": "markdown",
   "metadata": {},
   "source": [
    "Now, we need to calculate 10% of the remaining amount to put into savings. This leaves us with:\n",
    "\n",
    "Checking = 2912.59\n",
    "Savings = 323.62\n",
    "\n",
    "---\n",
    "\n",
    "We now need to apply the budget to the rest of the checking account.\n",
    "\n",
    "- Groceries: -200.00\n",
    "- Eating out: -582.52\n",
    "- Pet supplies: -50.00\n",
    "- Gas: -100.00\n",
    "- Travel fund: -50.00 (Move to travel fund)\n",
    "- Misc: -582.52\n",
    "\n",
    "```python\n",
    "-(200.00+582.52+50.00+100.00+50.00+582.52)\n",
    "```\n",
    "\n"
   ]
  },
  {
   "cell_type": "code",
   "execution_count": 2,
   "metadata": {},
   "outputs": [
    {
     "name": "stdout",
     "output_type": "stream",
     "text": [
      "1347.55\n"
     ]
    }
   ],
   "source": [
    "print(round(2912.59 + -(200.00+582.52+50.00+100.00+50.00+582.52), 2))"
   ]
  },
  {
   "cell_type": "markdown",
   "metadata": {},
   "source": [
    "Current total amounts:\n",
    "\n",
    "Checking: 1347.55\n",
    "\n",
    "Savings: 323.62\n",
    "\n",
    "Travel fund: 50.00"
   ]
  },
  {
   "cell_type": "markdown",
   "metadata": {},
   "source": []
  },
  {
   "cell_type": "markdown",
   "metadata": {},
   "source": [
    "\n",
    "---\n",
    "\n",
    "Since there is more than $700 in the checking account, we can move an additional $500 to savings.\n",
    "\n",
    "**End:**\n",
    "\n",
    "Checking: 847.55\n",
    "\n",
    "Savings: 823.62\n",
    "\n",
    "Travel fund: 50.00\n",
    "\n",
    "For the next pay period, we repeat the process starting with $847.55."
   ]
  },
  {
   "cell_type": "markdown",
   "metadata": {},
   "source": []
  },
  {
   "cell_type": "markdown",
   "metadata": {},
   "source": [
    "---\n",
    "\n",
    "#### Process Review\n",
    "\n",
    "Let's review the pay period we calculated above.\n",
    "\n",
    "- We went through each day in the pay period and found which bills were due during that time.\n",
    "- We added the total amount due and subtracted it from the starting amount.\n",
    "- We calculated 10% of the total and moved it to savings.\n",
    "- We applied the remaining budget.\n",
    "- We evaluated the leftover and added additional money to savings if applicable.\n",
    "\n",
    "Review each of these within the process. What code functions or methods do we know that can automate each step for us? Write it down next to the step. Then, work on combining the steps together as code until you get the expected result.\n",
    "\n",
    "Start small & run a test value through on each new addition so you can ensure that the code is working as you go. It is easier to identify a bug when you know exactly what you changed between when it was working and when it was not. Imagine if you wrote an entire program before testing it and you get the wrong value. How do you know where to start?\n",
    "\n",
    "---"
   ]
  },
  {
   "cell_type": "markdown",
   "metadata": {},
   "source": [
    "#### Notes on Dates\n",
    "This problem can be worked without anything special. We know the general breakdown of a year:\n",
    "- There are 12 months, 52 weeks, or 365 days in a year.\n",
    "- There are 7 days in a week.\n",
    "- 2025 starts on a Wednesday.\n",
    "- We know that if we consider one week to start on a Wednesday, the next week also starts on a Wednesday.\n",
    "    - A day of the week is the same distance from any other specific day week to week. (EX: The time span from Monday to Wednesday is always two days. The time span between Tuesday and Saturday is always 4 days. We cannot go backwards in time.)\n",
    "\n",
    "\n",
    "Do we know any functions that can assist us with this?\n",
    "\n",
    "Python also includes a DateTime type that can be formatted if desired.\n",
    "\n",
    "---"
   ]
  },
  {
   "cell_type": "markdown",
   "metadata": {},
   "source": [
    "#### Practice Area\n",
    "\n",
    "Here, you can practice building your code. Feel free to add more cells as needed. Once you have figured out a way to accurately calculate the correct balances, try using the same process to factor in savings purchases as mentioned in the README. Remember: Your friend also wants to know what purchase order would allow them to obtain all wish list items the fastest. Does purchase order matter? Remember to add your final code to a .py file and push to git."
   ]
  },
  {
   "cell_type": "code",
   "execution_count": 9,
   "metadata": {},
   "outputs": [],
   "source": [
    "import pandas as pd\n",
    "\n",
    "# read income data \n",
    "income_df = pd.read_csv(\"income.csv\")\n",
    "\n",
    "# read expense data\n",
    "expenses_df = pd.read_csv(\"bills.csv\")\n",
    "\n",
    "# Read wishlist data (assuming the wishlist is in a file called wishlist.csv)\n",
    "wishlist = pd.read_csv(\"wishlist.csv\").to_dict(orient='records')  # Convert to list of dictionaries\n"
   ]
  },
  {
   "cell_type": "code",
   "execution_count": 12,
   "metadata": {},
   "outputs": [],
   "source": [
    "def calculate_budget(income_df, expenses_df, wishlist):\n",
    "    # starting values\n",
    "    checking_balance = 3000  # starting balance in checking account\n",
    "    savings_balance = 0  # starting balance in savings account\n",
    "    savings_over_time = []  # to track savings over time\n",
    "    purchased_items = []  # to track purchased wishlist items\n",
    "    \n",
    "    \n",
    "    \n",
    "    for index, row in income_df.iterrows():\n",
    "        income = row['Cost']  \n",
    "        frequency = row['Frequency']\n",
    "        \n",
    "        # check for bi weekly\n",
    "        if frequency == 2:  \n",
    "            # ddd income to checking account\n",
    "            checking_balance += income\n",
    "            \n",
    "            # process expenses for the pay period\n",
    "            for _, expense in expenses_df.iterrows():\n",
    "                # check if the expense frequency is monthly or weekly or yearly\n",
    "                if expense['Frequency'] == 1:  # monthly expense\n",
    "                    # deduct monthly expenses from checking\n",
    "                    checking_balance -= expense['Cost']\n",
    "                elif expense['Frequency'] == 7:  \n",
    "                    checking_balance -= expense['Cost']\n",
    "                \n",
    "\n",
    "            # 10% of the remaining balance for savings\n",
    "            savings_contribution = 0.1 * checking_balance\n",
    "            savings_balance += savings_contribution\n",
    "            checking_balance -= savings_contribution  # move savings to sav acct\n",
    "            \n",
    "            # purchase wishlist items based on the savings amount\n",
    "            for item in wishlist:\n",
    "                if savings_balance >= item['Amount'] * 0.2:  # if 20 is enough \n",
    "                    purchased_items.append(item['Item'])  # add item to purchased\n",
    "                    savings_balance -= item['Amount']  # take from sav\n",
    "            \n",
    "            # track savings over time\n",
    "            savings_over_time.append(savings_balance)\n",
    "        \n",
    "    # return final balances\n",
    "    return checking_balance, savings_balance, savings_over_time, purchased_items\n"
   ]
  },
  {
   "cell_type": "code",
   "execution_count": 11,
   "metadata": {},
   "outputs": [
    {
     "name": "stdout",
     "output_type": "stream",
     "text": [
      "Final Checking Account Balance: $1761.01\n",
      "Final Savings Account Balance: $-54.33\n",
      "Wishlist Items Purchased: ['Automatic Cat Feeder']\n",
      "Savings Over Time: [-54.33199999999988]\n"
     ]
    }
   ],
   "source": [
    "# call the function\n",
    "final_checking, final_savings, savings_over_time, purchased_items = calculate_budget(income_df, expenses_df, wishlist)\n",
    "\n",
    "\n",
    "print(f\"Final Checking Account Balance: ${final_checking:.2f}\")\n",
    "print(f\"Final Savings Account Balance: ${final_savings:.2f}\")\n",
    "print(f\"Wishlist Items Purchased: {[item for item in purchased_items]}\")\n",
    "\n",
    "# print sav over time\n",
    "print(\"Savings Over Time:\", savings_over_time)\n"
   ]
  }
 ],
 "metadata": {
  "kernelspec": {
   "display_name": "Python 3",
   "language": "python",
   "name": "python3"
  },
  "language_info": {
   "codemirror_mode": {
    "name": "ipython",
    "version": 3
   },
   "file_extension": ".py",
   "mimetype": "text/x-python",
   "name": "python",
   "nbconvert_exporter": "python",
   "pygments_lexer": "ipython3",
   "version": "3.13.0"
  }
 },
 "nbformat": 4,
 "nbformat_minor": 2
}
